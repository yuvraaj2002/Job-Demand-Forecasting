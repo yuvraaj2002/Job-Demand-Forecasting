{
 "cells": [
  {
   "cell_type": "markdown",
   "id": "71e944cb-dbf0-4d7e-a799-cc1f52eedb40",
   "metadata": {},
   "source": [
    "### Importing the libraries"
   ]
  },
  {
   "cell_type": "code",
   "execution_count": 2,
   "id": "6cde5f71-cef9-4b76-88cf-bd32bcc51620",
   "metadata": {},
   "outputs": [
    {
     "name": "stdout",
     "output_type": "stream",
     "text": [
      "Requirement already satisfied: scikit-learn in c:\\users\\ys723\\appdata\\local\\programs\\python\\python310\\lib\\site-packages (1.2.2)\n",
      "Requirement already satisfied: numpy>=1.17.3 in c:\\users\\ys723\\appdata\\local\\programs\\python\\python310\\lib\\site-packages (from scikit-learn) (1.23.5)\n",
      "Requirement already satisfied: scipy>=1.3.2 in c:\\users\\ys723\\appdata\\local\\programs\\python\\python310\\lib\\site-packages (from scikit-learn) (1.10.1)\n",
      "Requirement already satisfied: joblib>=1.1.1 in c:\\users\\ys723\\appdata\\local\\programs\\python\\python310\\lib\\site-packages (from scikit-learn) (1.3.1)\n",
      "Requirement already satisfied: threadpoolctl>=2.0.0 in c:\\users\\ys723\\appdata\\local\\programs\\python\\python310\\lib\\site-packages (from scikit-learn) (3.1.0)\n"
     ]
    }
   ],
   "source": [
    "!pip install scikit-learn"
   ]
  },
  {
   "cell_type": "code",
   "execution_count": 3,
   "id": "c460d496-d30d-4d83-99dd-ff2d520678ff",
   "metadata": {},
   "outputs": [
    {
     "ename": "ModuleNotFoundError",
     "evalue": "No module named 'sklearn'",
     "output_type": "error",
     "traceback": [
      "\u001b[1;31m---------------------------------------------------------------------------\u001b[0m",
      "\u001b[1;31mModuleNotFoundError\u001b[0m                       Traceback (most recent call last)",
      "Cell \u001b[1;32mIn[3], line 6\u001b[0m\n\u001b[0;32m      4\u001b[0m \u001b[38;5;28;01mimport\u001b[39;00m \u001b[38;5;21;01mseaborn\u001b[39;00m \u001b[38;5;28;01mas\u001b[39;00m \u001b[38;5;21;01msns\u001b[39;00m\n\u001b[0;32m      5\u001b[0m \u001b[38;5;28;01mimport\u001b[39;00m \u001b[38;5;21;01mmissingno\u001b[39;00m \u001b[38;5;28;01mas\u001b[39;00m \u001b[38;5;21;01mmsno\u001b[39;00m\n\u001b[1;32m----> 6\u001b[0m \u001b[38;5;28;01mfrom\u001b[39;00m \u001b[38;5;21;01msklearn\u001b[39;00m\u001b[38;5;21;01m.\u001b[39;00m\u001b[38;5;21;01mpreprocessing\u001b[39;00m \u001b[38;5;28;01mimport\u001b[39;00m OrdinalEncoder,OneHotEncoder\n\u001b[0;32m      8\u001b[0m \u001b[38;5;28mprint\u001b[39m(\u001b[38;5;124m\"\u001b[39m\u001b[38;5;124mEverything imported succesfully !\u001b[39m\u001b[38;5;124m\"\u001b[39m)\n",
      "\u001b[1;31mModuleNotFoundError\u001b[0m: No module named 'sklearn'"
     ]
    }
   ],
   "source": [
    "import pandas as pd\n",
    "import numpy as np\n",
    "import matplotlib.pyplot as plt\n",
    "import seaborn as sns\n",
    "import missingno as msno\n",
    "from sklearn.preprocessing import OrdinalEncoder,OneHotEncoder\n",
    "\n",
    "print(\"Everything imported succesfully !\")"
   ]
  },
  {
   "cell_type": "code",
   "execution_count": 2,
   "id": "c181d132-5440-4349-844b-79d9fde9e00d",
   "metadata": {},
   "outputs": [],
   "source": [
    "# Let's load the data and explore it\n",
    "df = pd.read_csv('data.csv')"
   ]
  },
  {
   "cell_type": "markdown",
   "id": "db501b2f-642f-4e32-b46a-7e00fa7571b8",
   "metadata": {},
   "source": [
    "### Exploratory data analysis ( Part 1 )"
   ]
  },
  {
   "cell_type": "code",
   "execution_count": 3,
   "id": "bc6ab326-12e1-435c-9aa6-27479830bbf9",
   "metadata": {},
   "outputs": [
    {
     "name": "stdout",
     "output_type": "stream",
     "text": [
      "Shape of the dataframe :  (7927, 16)\n"
     ]
    }
   ],
   "source": [
    "# Let's check the shape of the dataset\n",
    "print(\"Shape of the dataframe : \",df.shape)"
   ]
  },
  {
   "cell_type": "code",
   "execution_count": 4,
   "id": "dc379ac8-72ab-467f-b5ba-d6884653cfa6",
   "metadata": {},
   "outputs": [
    {
     "data": {
      "text/html": [
       "<div>\n",
       "<style scoped>\n",
       "    .dataframe tbody tr th:only-of-type {\n",
       "        vertical-align: middle;\n",
       "    }\n",
       "\n",
       "    .dataframe tbody tr th {\n",
       "        vertical-align: top;\n",
       "    }\n",
       "\n",
       "    .dataframe thead th {\n",
       "        text-align: right;\n",
       "    }\n",
       "</style>\n",
       "<table border=\"1\" class=\"dataframe\">\n",
       "  <thead>\n",
       "    <tr style=\"text-align: right;\">\n",
       "      <th></th>\n",
       "      <th>job_ID</th>\n",
       "      <th>job</th>\n",
       "      <th>location</th>\n",
       "      <th>company_id</th>\n",
       "      <th>company_name</th>\n",
       "      <th>work_type</th>\n",
       "      <th>full_time_remote</th>\n",
       "      <th>no_of_employ</th>\n",
       "      <th>no_of_application</th>\n",
       "      <th>posted_day_ago</th>\n",
       "      <th>alumni</th>\n",
       "      <th>Hiring_person</th>\n",
       "      <th>linkedin_followers</th>\n",
       "      <th>hiring_person_link</th>\n",
       "      <th>job_details</th>\n",
       "      <th>Column1</th>\n",
       "    </tr>\n",
       "  </thead>\n",
       "  <tbody>\n",
       "    <tr>\n",
       "      <th>4018</th>\n",
       "      <td>3476926121</td>\n",
       "      <td>Open Position for Business Data Engineer</td>\n",
       "      <td>Greater Bengaluru Area</td>\n",
       "      <td>NaN</td>\n",
       "      <td>Luxoft</td>\n",
       "      <td>Hybrid</td>\n",
       "      <td>Full-time · Mid-Senior level</td>\n",
       "      <td>10,001+ employees · IT Services and IT Consulting</td>\n",
       "      <td>27</td>\n",
       "      <td>8 hours</td>\n",
       "      <td>14 company alumni</td>\n",
       "      <td>Pooja Devi</td>\n",
       "      <td>NaN</td>\n",
       "      <td>https://www.linkedin.com/in/pooja-devi-19a5b3130</td>\n",
       "      <td>About the job Hi Greeting form Luxoft…!! Pleas...</td>\n",
       "      <td>NaN</td>\n",
       "    </tr>\n",
       "    <tr>\n",
       "      <th>1731</th>\n",
       "      <td>3471655650</td>\n",
       "      <td>Software Engineer, Trilogy (Remote) - $200,000...</td>\n",
       "      <td>Dehradun, Uttarakhand, India</td>\n",
       "      <td>NaN</td>\n",
       "      <td>Crossover</td>\n",
       "      <td>Remote</td>\n",
       "      <td>Full-time · Mid-Senior level</td>\n",
       "      <td>1,001-5,000 employees · IT Services and IT Con...</td>\n",
       "      <td>5</td>\n",
       "      <td>16 hours</td>\n",
       "      <td>12 company alumni</td>\n",
       "      <td>NaN</td>\n",
       "      <td>5,399,177 followers</td>\n",
       "      <td>NaN</td>\n",
       "      <td>About the job Crossover is the world's #1 sour...</td>\n",
       "      <td>NaN</td>\n",
       "    </tr>\n",
       "    <tr>\n",
       "      <th>4156</th>\n",
       "      <td>3463098616</td>\n",
       "      <td>Doctoral Researcher</td>\n",
       "      <td>Mangalagiri, Andhra Pradesh, India</td>\n",
       "      <td>NaN</td>\n",
       "      <td>SRM University, AP</td>\n",
       "      <td>On-site</td>\n",
       "      <td>Full-time</td>\n",
       "      <td>501-1,000 employees</td>\n",
       "      <td>days</td>\n",
       "      <td>4 days</td>\n",
       "      <td>NaN</td>\n",
       "      <td>Arghya Chakravarty</td>\n",
       "      <td>23,086 followers</td>\n",
       "      <td>https://www.linkedin.com/in/arghya-chakravarty...</td>\n",
       "      <td>About the job SRM AP PhD Admissions 2023. @Asp...</td>\n",
       "      <td>NaN</td>\n",
       "    </tr>\n",
       "    <tr>\n",
       "      <th>5781</th>\n",
       "      <td>3402443332</td>\n",
       "      <td>Malware Analyst</td>\n",
       "      <td>Mumbai, Maharashtra, India</td>\n",
       "      <td>NaN</td>\n",
       "      <td>MicroWorld Technologies Inc</td>\n",
       "      <td>NaN</td>\n",
       "      <td>Full-time</td>\n",
       "      <td>51-200 employees</td>\n",
       "      <td>135</td>\n",
       "      <td>5 days</td>\n",
       "      <td>NaN</td>\n",
       "      <td>MicroWorld eScan</td>\n",
       "      <td>3,784 followers</td>\n",
       "      <td>https://www.linkedin.com/in/microworld-escan-8...</td>\n",
       "      <td>About the job Malware analysts are an importan...</td>\n",
       "      <td>NaN</td>\n",
       "    </tr>\n",
       "  </tbody>\n",
       "</table>\n",
       "</div>"
      ],
      "text/plain": [
       "          job_ID                                                job  \\\n",
       "4018  3476926121           Open Position for Business Data Engineer   \n",
       "1731  3471655650  Software Engineer, Trilogy (Remote) - $200,000...   \n",
       "4156  3463098616                                Doctoral Researcher   \n",
       "5781  3402443332                                    Malware Analyst   \n",
       "\n",
       "                                location  company_id  \\\n",
       "4018              Greater Bengaluru Area         NaN   \n",
       "1731        Dehradun, Uttarakhand, India         NaN   \n",
       "4156  Mangalagiri, Andhra Pradesh, India         NaN   \n",
       "5781          Mumbai, Maharashtra, India         NaN   \n",
       "\n",
       "                     company_name work_type              full_time_remote  \\\n",
       "4018                       Luxoft    Hybrid  Full-time · Mid-Senior level   \n",
       "1731                    Crossover    Remote  Full-time · Mid-Senior level   \n",
       "4156           SRM University, AP   On-site                     Full-time   \n",
       "5781  MicroWorld Technologies Inc       NaN                     Full-time   \n",
       "\n",
       "                                           no_of_employ no_of_application  \\\n",
       "4018  10,001+ employees · IT Services and IT Consulting                27   \n",
       "1731  1,001-5,000 employees · IT Services and IT Con...                 5   \n",
       "4156                                501-1,000 employees              days   \n",
       "5781                                   51-200 employees               135   \n",
       "\n",
       "     posted_day_ago             alumni       Hiring_person  \\\n",
       "4018        8 hours  14 company alumni          Pooja Devi   \n",
       "1731       16 hours  12 company alumni                 NaN   \n",
       "4156         4 days                NaN  Arghya Chakravarty   \n",
       "5781         5 days                NaN    MicroWorld eScan   \n",
       "\n",
       "       linkedin_followers                                 hiring_person_link  \\\n",
       "4018                  NaN   https://www.linkedin.com/in/pooja-devi-19a5b3130   \n",
       "1731  5,399,177 followers                                                NaN   \n",
       "4156     23,086 followers  https://www.linkedin.com/in/arghya-chakravarty...   \n",
       "5781      3,784 followers  https://www.linkedin.com/in/microworld-escan-8...   \n",
       "\n",
       "                                            job_details  Column1  \n",
       "4018  About the job Hi Greeting form Luxoft…!! Pleas...      NaN  \n",
       "1731  About the job Crossover is the world's #1 sour...      NaN  \n",
       "4156  About the job SRM AP PhD Admissions 2023. @Asp...      NaN  \n",
       "5781  About the job Malware analysts are an importan...      NaN  "
      ]
     },
     "execution_count": 4,
     "metadata": {},
     "output_type": "execute_result"
    }
   ],
   "source": [
    "# Let's check any 4 random rows from the dataset\n",
    "df.sample(4)"
   ]
  },
  {
   "cell_type": "markdown",
   "id": "b7075a16-1cd1-4881-9586-dbe19ac49660",
   "metadata": {},
   "source": [
    "**Observation**\n",
    "\n",
    "Out of all the features job_id,company_id,hiring_person_link,hiring_person and Column1 features are unnecessary, so we will simply remove them"
   ]
  },
  {
   "cell_type": "code",
   "execution_count": 5,
   "id": "e5755d46-45e7-4b3e-9093-dcd285b38b9b",
   "metadata": {},
   "outputs": [
    {
     "name": "stdout",
     "output_type": "stream",
     "text": [
      "<class 'pandas.core.frame.DataFrame'>\n",
      "RangeIndex: 7927 entries, 0 to 7926\n",
      "Data columns (total 16 columns):\n",
      " #   Column              Non-Null Count  Dtype  \n",
      "---  ------              --------------  -----  \n",
      " 0   job_ID              7927 non-null   int64  \n",
      " 1   job                 7894 non-null   object \n",
      " 2   location            7894 non-null   object \n",
      " 3   company_id          0 non-null      float64\n",
      " 4   company_name        7892 non-null   object \n",
      " 5   work_type           7736 non-null   object \n",
      " 6   full_time_remote    7848 non-null   object \n",
      " 7   no_of_employ        7603 non-null   object \n",
      " 8   no_of_application   7887 non-null   object \n",
      " 9   posted_day_ago      7920 non-null   object \n",
      " 10  alumni              4858 non-null   object \n",
      " 11  Hiring_person       5720 non-null   object \n",
      " 12  linkedin_followers  4814 non-null   object \n",
      " 13  hiring_person_link  5720 non-null   object \n",
      " 14  job_details         7881 non-null   object \n",
      " 15  Column1             0 non-null      float64\n",
      "dtypes: float64(2), int64(1), object(13)\n",
      "memory usage: 991.0+ KB\n"
     ]
    }
   ],
   "source": [
    "# Let's get some more basic infomraiton about data\n",
    "df.info()"
   ]
  },
  {
   "cell_type": "code",
   "execution_count": 6,
   "id": "ed4b13d3-e979-43ea-a790-4cb364f1091f",
   "metadata": {},
   "outputs": [
    {
     "name": "stdout",
     "output_type": "stream",
     "text": [
      "Duplicate values :  79\n"
     ]
    }
   ],
   "source": [
    "# Checking if there are any duplicated values\n",
    "print(\"Duplicate values : \",df.duplicated().sum())"
   ]
  },
  {
   "cell_type": "code",
   "execution_count": 7,
   "id": "a8b1024a-9e43-4f1a-af5b-99b46a34747f",
   "metadata": {},
   "outputs": [
    {
     "name": "stdout",
     "output_type": "stream",
     "text": [
      "job_ID                  0.000000\n",
      "job                     0.416299\n",
      "location                0.416299\n",
      "company_id            100.000000\n",
      "company_name            0.441529\n",
      "work_type               2.409487\n",
      "full_time_remote        0.996594\n",
      "no_of_employ            4.087297\n",
      "no_of_application       0.504605\n",
      "posted_day_ago          0.088306\n",
      "alumni                 38.715782\n",
      "Hiring_person          27.841554\n",
      "linkedin_followers     39.270846\n",
      "hiring_person_link     27.841554\n",
      "job_details             0.580295\n",
      "Column1               100.000000\n",
      "dtype: float64\n"
     ]
    },
    {
     "data": {
      "image/png": "[encoded data removed]",
      "text/plain": [
       "<Figure size 1500x300 with 3 Axes>"
      ]
     },
     "metadata": {},
     "output_type": "display_data"
    }
   ],
   "source": [
    "print(df.isnull().mean()*100)\n",
    "\n",
    "# Visualize missing values using a bar chart\n",
    "msno.bar(df,figsize = (15,3),color=\"dodgerblue\", sort=\"ascending\", fontsize=12)\n",
    "plt.show()"
   ]
  },
  {
   "cell_type": "code",
   "execution_count": 8,
   "id": "88659738-6c1b-43eb-a996-13e135312f1a",
   "metadata": {},
   "outputs": [
    {
     "data": {
      "image/png": "[encoded data removed]",
      "text/plain": [
       "<Figure size 300x300 with 1 Axes>"
      ]
     },
     "metadata": {},
     "output_type": "display_data"
    }
   ],
   "source": [
    "plt.figure(figsize=(3, 3))\n",
    "ex = [0.08,0.1,0.1]\n",
    "plt.pie(df['work_type'].value_counts(),labels = df['work_type'].value_counts().index,explode = ex,autopct='%1.1f%%')\n",
    "plt.show()"
   ]
  },
  {
   "cell_type": "markdown",
   "id": "8b01121a-3b85-4142-88db-524acba4d6aa",
   "metadata": {},
   "source": [
    "### Data processing "
   ]
  },
  {
   "cell_type": "code",
   "execution_count": 9,
   "id": "b0b751c2-60ed-42c2-84bd-1a602609cf25",
   "metadata": {},
   "outputs": [],
   "source": [
    "# Removing unnecessary columns from dataset\n",
    "df.drop(['Column1','job_ID','company_id','hiring_person_link','Hiring_person'],axis = 1,inplace=True)"
   ]
  },
  {
   "cell_type": "code",
   "execution_count": 10,
   "id": "9b07bcff-dea3-4222-9ff1-33cb6d421109",
   "metadata": {},
   "outputs": [
    {
     "name": "stdout",
     "output_type": "stream",
     "text": [
      "Total duplicate values :  0\n"
     ]
    }
   ],
   "source": [
    "# Let's drop the duplicate values\n",
    "df.drop_duplicates(inplace=True)\n",
    "print(\"Total duplicate values : \",df.duplicated().sum())"
   ]
  },
  {
   "cell_type": "markdown",
   "id": "220b3b0a-3320-43ff-bb3b-739c40cc8305",
   "metadata": {},
   "source": [
    "### Dealing with missing values ( Less than 5% )\n",
    "Out of all the features presnent in our dataset there are few features in which the percentage of missing valeus is less 5%, so we will first take those features we will simply compare the change in distribution of such features after removing or imputing missing values using simple univariate techniques."
   ]
  },
  {
   "cell_type": "code",
   "execution_count": 11,
   "id": "3942086f-d976-48be-9146-230e7c6c968f",
   "metadata": {},
   "outputs": [
    {
     "name": "stdout",
     "output_type": "stream",
     "text": [
      "job\n",
      "location\n",
      "company_name\n",
      "work_type\n",
      "full_time_remote\n",
      "no_of_employ\n",
      "no_of_application\n",
      "posted_day_ago\n",
      "job_details\n"
     ]
    }
   ],
   "source": [
    "# Let's see all feature having less than 5% missing values\n",
    "for cols in df.columns:\n",
    "    if df[cols].isnull().mean()*100 < 5 and df[cols].isnull().mean()*100 > 0:\n",
    "        print(cols)"
   ]
  },
  {
   "cell_type": "markdown",
   "id": "e974aab8-7868-4e10-b409-209744c41dc7",
   "metadata": {},
   "source": [
    "Since all the above features are categorical in nature so we will simply use mode imputation."
   ]
  },
  {
   "cell_type": "code",
   "execution_count": 18,
   "id": "239506e7-671e-436d-99a6-66e47312029c",
   "metadata": {},
   "outputs": [],
   "source": [
    "cols = ['job','location','company_name','work_type','full_time_remote','no_of_employ',\n",
    "        'no_of_application','posted_day_ago','job_details']\n",
    "\n",
    "# Mode imputation\n",
    "for col in cols:\n",
    "    df[col] = df[col].fillna(df[col].mode()[0])"
   ]
  },
  {
   "cell_type": "markdown",
   "id": "cca956fd-2fd9-47b8-9757-b156f3a81cb0",
   "metadata": {},
   "source": [
    "Now since both alumni and linkedin_followers have 38% and 39% missing values so we will be using some advance techniques to deal with missing values such as KNN imputer. But for using KNN imputer we need to make sure that our categorical data is properly encoded so we first need to encode our categorical features and also we will not be using job and job details feature in KNN imputer.\n",
    "\n",
    "Also we need to fix some features so we will first fix the features and then we will encode categorical features and finally we will use KNN imputer."
   ]
  },
  {
   "cell_type": "markdown",
   "id": "44db6598-70ac-4ed2-b8dd-bf444ef6f2bc",
   "metadata": {},
   "source": [
    "### Feature engineering"
   ]
  },
  {
   "cell_type": "code",
   "execution_count": 24,
   "id": "d68f8e17-8cef-45e3-9580-b0851b6cdaf2",
   "metadata": {},
   "outputs": [],
   "source": [
    "# Function to extract the followers count from 'linkedin_followers' column\n",
    "followers_count = []\n",
    "for i in range(len(df)):\n",
    "    row = df['linkedin_followers'].iloc[i]\n",
    "    if pd.isnull(row):\n",
    "        followers_count.append(np.nan)\n",
    "    elif 'followers' not in row:\n",
    "        followers_count.append(np.nan)\n",
    "    else:\n",
    "        followers = row.split(' ')[0]\n",
    "        followers = followers.replace(',', '')\n",
    "        followers = int(followers)\n",
    "        followers_count.append(followers)\n",
    "\n",
    "df.drop(['linkedin_followers'],axis=1,inplace=True)\n",
    "df['followers_count_HM'] = pd.Series(followers_count)"
   ]
  },
  {
   "cell_type": "code",
   "execution_count": 27,
   "id": "59b297b5-c220-4b27-99e0-4d070509aef4",
   "metadata": {},
   "outputs": [],
   "source": [
    "Alumni_count = []\n",
    "for i in range(len(df)):\n",
    "    item = df['alumni'].iloc[i]\n",
    "    if isinstance(item, int):\n",
    "        Alumni_count.append(item)\n",
    "    elif isinstance(item, float):\n",
    "        Alumni_count.append(np.nan)\n",
    "    elif isinstance(item, str):\n",
    "        item = item.split(' ')[0]\n",
    "        item = item.replace(',', '')\n",
    "        Alumni_count.append(int(item))   \n",
    "\n",
    "df.drop(['alumni'],axis=1,inplace=True)\n",
    "df['Alumni_count'] = pd.Series(Alumni_count)"
   ]
  },
  {
   "cell_type": "code",
   "execution_count": 29,
   "id": "8568849a-74e8-4756-bc00-e4182eb5d4ff",
   "metadata": {},
   "outputs": [],
   "source": [
    "Number_Of_Emp = []\n",
    "for i in range(len(df)):\n",
    "    item = df['no_of_employ'].iloc[i]\n",
    "    if isinstance(item, float):\n",
    "        Number_Of_Emp.append(item)\n",
    "    elif isinstance(item,str):\n",
    "        item = item.split(' ')[0]\n",
    "        item = item.replace(',','')\n",
    "        Number_Of_Emp.append(item)\n",
    "\n",
    "df.drop(['no_of_employ'],axis=1,inplace=True)\n",
    "df['Number_Of_Emp'] = pd.Series(Number_Of_Emp)"
   ]
  },
  {
   "cell_type": "code",
   "execution_count": 32,
   "id": "f8cc74a4-3915-4cac-8a21-c7f358d8e15d",
   "metadata": {},
   "outputs": [],
   "source": [
    "# Replace 'hours', 'minutes', and 'seconds' with NaN\n",
    "df['no_of_application'].replace(['hours', 'minute', 'seconds','minutes','hour'], np.nan, inplace=True)\n",
    "\n",
    "# Rename the 'full_time_remote' column to 'Employment_type'\n",
    "df.rename(columns={'full_time_remote': 'Employment_type'}, inplace=True)"
   ]
  },
  {
   "cell_type": "code",
   "execution_count": 36,
   "id": "49c6040b-fc18-4a58-b2cc-208ba6724191",
   "metadata": {},
   "outputs": [],
   "source": [
    "Posted_Minutes_Ago = []\n",
    "for i in range(len(df)):\n",
    "    item = df['posted_day_ago'].iloc[i]\n",
    "    if isinstance(item, float):\n",
    "        Posted_Minutes_Ago.append(np.nan)\n",
    "    elif isinstance(item, str) and item.split(' ')[1] == 'hours':\n",
    "        Posted_Minutes_Ago.append(int(item.split(' ')[0]) * 60)\n",
    "    elif isinstance(item, str) and item.split(' ')[1] == 'minutes':\n",
    "        Posted_Minutes_Ago.append(int(item.split(' ')[0]))\n",
    "    elif isinstance(item, str) and item.split(' ')[1] == 'seconds':\n",
    "        Posted_Minutes_Ago.append(int(item.split(' ')[0]) / 60)\n",
    "\n",
    "df.drop(['posted_day_ago'],axis=1,inplace=True)\n",
    "df['Posted_Minutes_Ago'] = pd.Series(Posted_Minutes_Ago)"
   ]
  },
  {
   "cell_type": "code",
   "execution_count": 37,
   "id": "d2c35dc9-dc77-464d-9054-307e79e5dcdd",
   "metadata": {},
   "outputs": [
    {
     "data": {
      "text/html": [
       "<div>\n",
       "<style scoped>\n",
       "    .dataframe tbody tr th:only-of-type {\n",
       "        vertical-align: middle;\n",
       "    }\n",
       "\n",
       "    .dataframe tbody tr th {\n",
       "        vertical-align: top;\n",
       "    }\n",
       "\n",
       "    .dataframe thead th {\n",
       "        text-align: right;\n",
       "    }\n",
       "</style>\n",
       "<table border=\"1\" class=\"dataframe\">\n",
       "  <thead>\n",
       "    <tr style=\"text-align: right;\">\n",
       "      <th></th>\n",
       "      <th>job</th>\n",
       "      <th>location</th>\n",
       "      <th>company_name</th>\n",
       "      <th>work_type</th>\n",
       "      <th>Employment_type</th>\n",
       "      <th>no_of_application</th>\n",
       "      <th>job_details</th>\n",
       "      <th>followers_count_HM</th>\n",
       "      <th>Alumni_count</th>\n",
       "      <th>Number_Of_Emp</th>\n",
       "      <th>Posted_Minutes_Ago</th>\n",
       "    </tr>\n",
       "  </thead>\n",
       "  <tbody>\n",
       "    <tr>\n",
       "      <th>0</th>\n",
       "      <td>Data Analyst, Trilogy (Remote) - $60,000/year USD</td>\n",
       "      <td>Delhi, Delhi, India</td>\n",
       "      <td>Crossover</td>\n",
       "      <td>Remote</td>\n",
       "      <td>Full-time · Associate</td>\n",
       "      <td>200</td>\n",
       "      <td>About the job Crossover is the world's #1 sour...</td>\n",
       "      <td>5395547.0</td>\n",
       "      <td>12.0</td>\n",
       "      <td>1001-5000</td>\n",
       "      <td>480.0</td>\n",
       "    </tr>\n",
       "    <tr>\n",
       "      <th>1</th>\n",
       "      <td>Data Analyst, Trilogy (Remote) - $60,000/year USD</td>\n",
       "      <td>New Delhi, Delhi, India</td>\n",
       "      <td>Crossover</td>\n",
       "      <td>Remote</td>\n",
       "      <td>Full-time · Associate</td>\n",
       "      <td>184</td>\n",
       "      <td>About the job Crossover is the world's #1 sour...</td>\n",
       "      <td>5395547.0</td>\n",
       "      <td>12.0</td>\n",
       "      <td>1001-5000</td>\n",
       "      <td>480.0</td>\n",
       "    </tr>\n",
       "  </tbody>\n",
       "</table>\n",
       "</div>"
      ],
      "text/plain": [
       "                                                 job                 location  \\\n",
       "0  Data Analyst, Trilogy (Remote) - $60,000/year USD      Delhi, Delhi, India   \n",
       "1  Data Analyst, Trilogy (Remote) - $60,000/year USD  New Delhi, Delhi, India   \n",
       "\n",
       "  company_name work_type        Employment_type no_of_application  \\\n",
       "0    Crossover    Remote  Full-time · Associate               200   \n",
       "1    Crossover    Remote  Full-time · Associate               184   \n",
       "\n",
       "                                         job_details  followers_count_HM  \\\n",
       "0  About the job Crossover is the world's #1 sour...           5395547.0   \n",
       "1  About the job Crossover is the world's #1 sour...           5395547.0   \n",
       "\n",
       "   Alumni_count Number_Of_Emp  Posted_Minutes_Ago  \n",
       "0          12.0     1001-5000               480.0  \n",
       "1          12.0     1001-5000               480.0  "
      ]
     },
     "execution_count": 37,
     "metadata": {},
     "output_type": "execute_result"
    }
   ],
   "source": [
    "df.head(2)"
   ]
  },
  {
   "cell_type": "code",
   "execution_count": 38,
   "id": "a58bcda1-9288-4dfe-bdb5-378ed36572f9",
   "metadata": {},
   "outputs": [
    {
     "name": "stdout",
     "output_type": "stream",
     "text": [
      "job                    0.000000\n",
      "location               0.000000\n",
      "company_name           0.000000\n",
      "work_type              0.000000\n",
      "Employment_type        0.000000\n",
      "no_of_application     39.948751\n",
      "job_details            0.000000\n",
      "followers_count_HM    40.345932\n",
      "Alumni_count          39.397822\n",
      "Number_Of_Emp          1.434978\n",
      "Posted_Minutes_Ago    38.744395\n",
      "dtype: float64\n"
     ]
    }
   ],
   "source": [
    "print(df.isnull().mean()*100)"
   ]
  },
  {
   "cell_type": "code",
   "execution_count": 16,
   "id": "2005d298-c57d-4b1c-a4ff-7e6827901394",
   "metadata": {},
   "outputs": [],
   "source": []
  },
  {
   "cell_type": "code",
   "execution_count": 17,
   "id": "e305746b-543a-41e3-b059-a53b651962fc",
   "metadata": {},
   "outputs": [],
   "source": []
  },
  {
   "cell_type": "code",
   "execution_count": 18,
   "id": "7135d164-6dd5-460a-8c5a-d740b55a4ba9",
   "metadata": {},
   "outputs": [],
   "source": []
  },
  {
   "cell_type": "code",
   "execution_count": null,
   "id": "8a9594f7-d133-4cb4-9b2b-34349c0f27c8",
   "metadata": {},
   "outputs": [],
   "source": []
  },
  {
   "cell_type": "code",
   "execution_count": null,
   "id": "18f348dd-212d-482c-9318-9ee3d2ad6520",
   "metadata": {},
   "outputs": [],
   "source": []
  },
  {
   "cell_type": "code",
   "execution_count": null,
   "id": "8624cad6-c358-4f15-8d0a-6d73c70c5ef5",
   "metadata": {},
   "outputs": [],
   "source": []
  },
  {
   "cell_type": "code",
   "execution_count": null,
   "id": "a764e185-3a96-4886-bc5c-c1b6a52bb7cb",
   "metadata": {},
   "outputs": [],
   "source": []
  },
  {
   "cell_type": "code",
   "execution_count": null,
   "id": "b8c3574d-7006-4cc6-b732-c0ed99050b25",
   "metadata": {},
   "outputs": [],
   "source": []
  },
  {
   "cell_type": "code",
   "execution_count": 35,
   "id": "9c5c324e-551f-447b-988f-486f874e7ccf",
   "metadata": {},
   "outputs": [],
   "source": []
  },
  {
   "cell_type": "code",
   "execution_count": 24,
   "id": "c955c436-2060-4556-8a3a-a913bd87bd1a",
   "metadata": {},
   "outputs": [],
   "source": [
    "for item in df['posted_day_ago']:\n",
    "    if isinstance(str,str):\n",
    "        \n",
    "        print(item)\n",
    "   "
   ]
  },
  {
   "cell_type": "code",
   "execution_count": 39,
   "id": "13736279-7b22-4bb2-aa8c-a1647be99955",
   "metadata": {},
   "outputs": [
    {
     "data": {
      "text/plain": [
       "0.5"
      ]
     },
     "execution_count": 39,
     "metadata": {},
     "output_type": "execute_result"
    }
   ],
   "source": [
    "str = '30 hours'\n",
    "int(str.split(' ')[0])/60"
   ]
  },
  {
   "cell_type": "code",
   "execution_count": 37,
   "id": "7008a211-7a10-4f83-b93e-fa74e781b859",
   "metadata": {},
   "outputs": [
    {
     "data": {
      "text/plain": [
       "array(['8 hours', '9 hours', '7 hours', '26 minutes', '10 hours',\n",
       "       '25 minutes', '9 minutes', '5 hours', '20 hours', '6 hours',\n",
       "       '1 hour', '2 hours', '12 hours', '22 hours', '4 hours', '3 hours',\n",
       "       '1 day', '23 hours', '37 minutes', '11 hours', '14 hours',\n",
       "       '18 hours', '19 hours', '6 minutes', '21 hours', '13 hours',\n",
       "       '8 minutes', '15 hours', '10 minutes', '4 days', '5 days',\n",
       "       '2 days', '6 days', '1 minute', '11 minutes', '50 minutes',\n",
       "       '13 minutes', '16 hours', '17 hours', '3 days', '25 seconds',\n",
       "       '17 minutes', '12 minutes', '47 minutes', '7 minutes',\n",
       "       '58 minutes', '56 minutes', '27 minutes', '53 minutes',\n",
       "       '45 minutes', '4 minutes', '57 minutes', '1 week', nan,\n",
       "       '43 minutes', '32 minutes', '52 minutes', '39 minutes',\n",
       "       '5 minutes', '14 minutes', '16 minutes', '15 minutes',\n",
       "       '18 minutes', '19 minutes', '20 minutes', '23 minutes',\n",
       "       '22 minutes', '21 minutes', '24 minutes', '28 minutes',\n",
       "       '29 minutes', '30 minutes', '35 minutes', '34 minutes',\n",
       "       '38 minutes', '36 minutes', '41 minutes', '46 minutes',\n",
       "       '49 minutes', '51 minutes', '54 minutes', '55 minutes',\n",
       "       '3 minutes', '42 minutes', '44 minutes', '59 minutes',\n",
       "       '33 minutes', '40 minutes', '31 minutes', '39 seconds',\n",
       "       '34 seconds', '48 minutes'], dtype=object)"
      ]
     },
     "execution_count": 37,
     "metadata": {},
     "output_type": "execute_result"
    }
   ],
   "source": [
    "df['posted_day_ago'].unique() "
   ]
  },
  {
   "cell_type": "code",
   "execution_count": 20,
   "id": "ab982b7f-7929-492c-803b-22a4e33f9303",
   "metadata": {},
   "outputs": [
    {
     "data": {
      "text/html": [
       "<div>\n",
       "<style scoped>\n",
       "    .dataframe tbody tr th:only-of-type {\n",
       "        vertical-align: middle;\n",
       "    }\n",
       "\n",
       "    .dataframe tbody tr th {\n",
       "        vertical-align: top;\n",
       "    }\n",
       "\n",
       "    .dataframe thead th {\n",
       "        text-align: right;\n",
       "    }\n",
       "</style>\n",
       "<table border=\"1\" class=\"dataframe\">\n",
       "  <thead>\n",
       "    <tr style=\"text-align: right;\">\n",
       "      <th></th>\n",
       "      <th>job</th>\n",
       "      <th>location</th>\n",
       "      <th>company_name</th>\n",
       "      <th>work_type</th>\n",
       "      <th>Employment_type</th>\n",
       "      <th>no_of_application</th>\n",
       "      <th>posted_day_ago</th>\n",
       "      <th>job_details</th>\n",
       "      <th>followers_count_HM</th>\n",
       "      <th>Alumni_count</th>\n",
       "      <th>Number_Of_Emp</th>\n",
       "    </tr>\n",
       "  </thead>\n",
       "  <tbody>\n",
       "    <tr>\n",
       "      <th>0</th>\n",
       "      <td>Data Analyst, Trilogy (Remote) - $60,000/year USD</td>\n",
       "      <td>Delhi, Delhi, India</td>\n",
       "      <td>Crossover</td>\n",
       "      <td>Remote</td>\n",
       "      <td>Full-time · Associate</td>\n",
       "      <td>200</td>\n",
       "      <td>8 hours</td>\n",
       "      <td>About the job Crossover is the world's #1 sour...</td>\n",
       "      <td>5395547.0</td>\n",
       "      <td>12.0</td>\n",
       "      <td>1001-5000</td>\n",
       "    </tr>\n",
       "    <tr>\n",
       "      <th>1</th>\n",
       "      <td>Data Analyst, Trilogy (Remote) - $60,000/year USD</td>\n",
       "      <td>New Delhi, Delhi, India</td>\n",
       "      <td>Crossover</td>\n",
       "      <td>Remote</td>\n",
       "      <td>Full-time · Associate</td>\n",
       "      <td>184</td>\n",
       "      <td>8 hours</td>\n",
       "      <td>About the job Crossover is the world's #1 sour...</td>\n",
       "      <td>5395547.0</td>\n",
       "      <td>12.0</td>\n",
       "      <td>1001-5000</td>\n",
       "    </tr>\n",
       "    <tr>\n",
       "      <th>2</th>\n",
       "      <td>Data Analyst - WFH</td>\n",
       "      <td>Greater Bengaluru Area</td>\n",
       "      <td>Uplers</td>\n",
       "      <td>Remote</td>\n",
       "      <td>Full-time · Mid-Senior level</td>\n",
       "      <td>200</td>\n",
       "      <td>9 hours</td>\n",
       "      <td>About the job Profile: ML EngineersExperience:...</td>\n",
       "      <td>NaN</td>\n",
       "      <td>3.0</td>\n",
       "      <td>1001-5000</td>\n",
       "    </tr>\n",
       "  </tbody>\n",
       "</table>\n",
       "</div>"
      ],
      "text/plain": [
       "                                                 job                 location  \\\n",
       "0  Data Analyst, Trilogy (Remote) - $60,000/year USD      Delhi, Delhi, India   \n",
       "1  Data Analyst, Trilogy (Remote) - $60,000/year USD  New Delhi, Delhi, India   \n",
       "2                                 Data Analyst - WFH   Greater Bengaluru Area   \n",
       "\n",
       "  company_name work_type               Employment_type no_of_application  \\\n",
       "0    Crossover    Remote         Full-time · Associate               200   \n",
       "1    Crossover    Remote         Full-time · Associate               184   \n",
       "2       Uplers    Remote  Full-time · Mid-Senior level               200   \n",
       "\n",
       "  posted_day_ago                                        job_details  \\\n",
       "0        8 hours  About the job Crossover is the world's #1 sour...   \n",
       "1        8 hours  About the job Crossover is the world's #1 sour...   \n",
       "2        9 hours  About the job Profile: ML EngineersExperience:...   \n",
       "\n",
       "   followers_count_HM  Alumni_count Number_Of_Emp  \n",
       "0           5395547.0          12.0     1001-5000  \n",
       "1           5395547.0          12.0     1001-5000  \n",
       "2                 NaN           3.0     1001-5000  "
      ]
     },
     "execution_count": 20,
     "metadata": {},
     "output_type": "execute_result"
    }
   ],
   "source": [
    "df.head(3)"
   ]
  },
  {
   "cell_type": "code",
   "execution_count": 15,
   "id": "ecda13f0-737c-4afe-9a0d-cb7553a6deeb",
   "metadata": {},
   "outputs": [
    {
     "data": {
      "text/plain": [
       "array(['200', '184', '8', '2', '7', 'minutes', '22', '111', '36', '44',\n",
       "       '29', '4', '19', '14', '13', '32', '20', 'hours', '5', '21', '27',\n",
       "       '85', '97', '42', '3', '1', '130', '127', '11', '16', '60', '17',\n",
       "       '52', '50', '10', '61', '95', '39', '18', '6', '40', '138', '9',\n",
       "       '26', '78', '47', '104', '15', '110', '25', '38', '122', '34',\n",
       "       '149', '83', '57', '66', '56', '80', '135', '158', '139', '54',\n",
       "       '28', '23', '12', '175', '35', '87', '109', '71', '70', '24', '96',\n",
       "       '48', '103', '31', 'days', 'minute', '68', '147', 'day', '46',\n",
       "       '65', nan, '59', '102', '53', '125', '143', '142', '150', '195',\n",
       "       '160', '99', '112', '67', '74', '134', '43', '98', '146', '55',\n",
       "       '108', '115', '176', '113', '30', '126', '76', '72', '129', '100',\n",
       "       '172', 'hour', '51', 'seconds', '79', '163', '41', '86', '69',\n",
       "       '132', '114', '136', '148', '77', '117', '164', '90', '33', '63',\n",
       "       '73', '81', '106', '75', '45', '82', '156', '173', '37', '174',\n",
       "       '145', '84', '190', '181', '166', '154', '94', '128', '161', '194',\n",
       "       '93', '152', '133', '159', '137', '88', '162', '177', '105', '140',\n",
       "       '120', '49', '183', '187', '196', '123', '193', '91', '141', '58',\n",
       "       '62', '198', '124', '171', '168', '64', '191', '118', '107', '155',\n",
       "       '169', '192', '116', '185', '197', '153', '165', '170', '121',\n",
       "       '180', '89', '101', '189', '188', '119', '144', '131', '167', '92',\n",
       "       '186', '157'], dtype=object)"
      ]
     },
     "execution_count": 15,
     "metadata": {},
     "output_type": "execute_result"
    }
   ],
   "source": [
    "df['no_of_application'].unique()"
   ]
  },
  {
   "cell_type": "code",
   "execution_count": null,
   "id": "e3107d55-f069-4e9e-95ce-eb045a8d1c52",
   "metadata": {},
   "outputs": [],
   "source": []
  }
 ],
 "metadata": {
  "kernelspec": {
   "display_name": "Text_data",
   "language": "python",
   "name": "text_data"
  },
  "language_info": {
   "codemirror_mode": {
    "name": "ipython",
    "version": 3
   },
   "file_extension": ".py",
   "mimetype": "text/x-python",
   "name": "python",
   "nbconvert_exporter": "python",
   "pygments_lexer": "ipython3",
   "version": "3.10.0"
  }
 },
 "nbformat": 4,
 "nbformat_minor": 5
}
